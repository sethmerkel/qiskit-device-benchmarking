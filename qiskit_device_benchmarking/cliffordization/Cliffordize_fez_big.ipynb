{
 "cells": [
  {
   "cell_type": "code",
   "execution_count": 7,
   "id": "a37c63a4",
   "metadata": {},
   "outputs": [],
   "source": [
    "import numpy as np\n",
    "\n",
    "import qiskit\n",
    "from qiskit_ibm_runtime import QiskitRuntimeService\n",
    "from LayerChain import best_layer_chains\n",
    "from Cliffordize import bricklayer_circ, Cliffordize\n",
    "from qiskit_ibm_runtime import EstimatorV2\n",
    "import time\n",
    "\n",
    "\n",
    "#from qiskit.quantum_info import Clifford, Pauli"
   ]
  },
  {
   "cell_type": "code",
   "execution_count": 8,
   "id": "9d05b11d",
   "metadata": {},
   "outputs": [
    {
     "name": "stdout",
     "output_type": "stream",
     "text": [
      "Device ibm_fez Loaded with 156 qubits\n",
      "Two Qubit Gate: ecr\n",
      "meas\n",
      "0.5688679004811545\n",
      "no meas\n",
      "0.731843154204214\n"
     ]
    }
   ],
   "source": [
    "nqubits=20\n",
    "nlayers=10\n",
    "\n",
    "ncliffordizations=29\n",
    "nstablizers=30\n",
    "\n",
    "\n",
    "'''\n",
    "backend_name = \"ibm_peekskill\"\n",
    "instance=\"grants/qciss/internal\"\n",
    "'''\n",
    "backend_name = \"ibm_fez\"\n",
    "instance=\"grants/qciss/production\"\n",
    "\n",
    "\n",
    "service = QiskitRuntimeService(instance=instance)\n",
    "# specify backend and two-qubit gate to be layered\n",
    "backend = service.backend(backend_name)\n",
    "twoq_gate = \"ecr\"\n",
    "print(f\"Device {backend.name} Loaded with {backend.num_qubits} qubits\")\n",
    "print(f\"Two Qubit Gate: {twoq_gate}\")\n",
    "\n",
    "\n",
    "qubits_log = [a for a in range(nqubits)]\n",
    "layer_chains_log = [[(a,b) for a, b in zip(qubits_log[0::2],qubits_log[1::2])],\n",
    "                    [(a,b) for a, b in zip(qubits_log[1::2],qubits_log[2::2])]]\n",
    "qubits,layer_chains = best_layer_chains(backend, nqubits,nlayers*int(nqubits/2))\n"
   ]
  },
  {
   "cell_type": "code",
   "execution_count": 3,
   "id": "e3535a9e",
   "metadata": {},
   "outputs": [
    {
     "data": {
      "text/plain": [
       "\"\\n\\nfrom qiskit_aer import AerSimulator\\n\\nbackend = AerSimulator(method='stabilizer')\\n\\nnqubits=5\\nqubits= [a for a in range(nqubits)]\\n\""
      ]
     },
     "execution_count": 3,
     "metadata": {},
     "output_type": "execute_result"
    }
   ],
   "source": [
    "'''\n",
    "\n",
    "from qiskit_aer import AerSimulator\n",
    "\n",
    "backend = AerSimulator(method='stabilizer')\n",
    "\n",
    "nqubits=5\n",
    "qubits= [a for a in range(nqubits)]\n",
    "'''"
   ]
  },
  {
   "cell_type": "code",
   "execution_count": 9,
   "id": "7bcaada4",
   "metadata": {},
   "outputs": [
    {
     "name": "stdout",
     "output_type": "stream",
     "text": [
      "302.3774757385254\n"
     ]
    }
   ],
   "source": [
    "start = time.time()\n",
    "\n",
    "target_circ = bricklayer_circ(nqubits,nlayers,gate = 'cz')\n",
    "outputs = Cliffordize(target_circ,ncliffordizations,nstablizers, backend,gate = 'cz', initial_layout=qubits)\n",
    "pubs = [val for val in outputs.values()]\n",
    "\n",
    "end = time.time()\n",
    "print(end-start)"
   ]
  },
  {
   "cell_type": "code",
   "execution_count": 10,
   "id": "f67b74b6",
   "metadata": {},
   "outputs": [],
   "source": [
    "\n",
    "\n",
    "estimator = EstimatorV2(backend)\n",
    "estimator.options.resilience_level =0\n",
    "estimator.options.twirling.enable_gates = True\n",
    "estimator.options.twirling.enable_measure = True\n",
    "estimator.options.resilience.measure_mitigation = False\n",
    "jobs = estimator.run(pubs)\n",
    "job_id_01 = jobs.job_id()\n"
   ]
  },
  {
   "cell_type": "code",
   "execution_count": 12,
   "id": "c0e8cde4",
   "metadata": {},
   "outputs": [
    {
     "name": "stdout",
     "output_type": "stream",
     "text": [
      "[1.         0.56255952 0.55742779 0.5481166  0.55401545 0.55999365\n",
      " 0.55787747 0.55216379 0.56829965 0.56491377 0.5617395  0.54478362\n",
      " 0.56269178 0.56017882 0.55808909 0.56348535 0.56033753 0.54994181\n",
      " 0.56792932 0.57837795 0.56049624 0.56499312 0.55263993 0.56015236\n",
      " 0.55882975 0.56869643 0.5700455  0.55102635 0.5629034  0.56337954]\n"
     ]
    }
   ],
   "source": [
    "jobs = service.job(job_id_01)\n",
    "\n",
    "means = [np.mean(res.data.evs) for res in jobs.result()]\n",
    "print(np.array(means)/means[0])"
   ]
  },
  {
   "cell_type": "code",
   "execution_count": 13,
   "id": "05600363",
   "metadata": {},
   "outputs": [
    {
     "name": "stdout",
     "output_type": "stream",
     "text": [
      "0.4397901699874854\n",
      "0.007107705199954822\n"
     ]
    }
   ],
   "source": [
    "errs = 1-np.array(means[1:])/means[0]\n",
    "print(np.mean(errs))\n",
    "print(np.std(errs))"
   ]
  },
  {
   "cell_type": "code",
   "execution_count": 15,
   "id": "11ac980d",
   "metadata": {},
   "outputs": [
    {
     "data": {
      "text/plain": [
       "0.0057776833082650025"
      ]
     },
     "execution_count": 15,
     "metadata": {},
     "output_type": "execute_result"
    }
   ],
   "source": [
    "1-(1-np.mean(errs))**(1/(nlayers*int(nqubits/2)))"
   ]
  },
  {
   "cell_type": "code",
   "execution_count": 17,
   "id": "c961b31d",
   "metadata": {},
   "outputs": [
    {
     "data": {
      "text/plain": [
       "100"
      ]
     },
     "execution_count": 17,
     "metadata": {},
     "output_type": "execute_result"
    }
   ],
   "source": [
    "(nlayers*int(nqubits/2))"
   ]
  },
  {
   "cell_type": "code",
   "execution_count": 1,
   "id": "24969d63",
   "metadata": {},
   "outputs": [
    {
     "data": {
      "text/plain": [
       "0.006080845512795752"
      ]
     },
     "execution_count": 1,
     "metadata": {},
     "output_type": "execute_result"
    }
   ],
   "source": [
    "1-(1-0.4397901699874854)**(1/(5*(10+9)))"
   ]
  },
  {
   "cell_type": "code",
   "execution_count": null,
   "id": "13faf5cc",
   "metadata": {},
   "outputs": [],
   "source": []
  }
 ],
 "metadata": {
  "kernelspec": {
   "display_name": "qiskit_birb",
   "language": "python",
   "name": "qiskit_birb"
  },
  "language_info": {
   "codemirror_mode": {
    "name": "ipython",
    "version": 3
   },
   "file_extension": ".py",
   "mimetype": "text/x-python",
   "name": "python",
   "nbconvert_exporter": "python",
   "pygments_lexer": "ipython3",
   "version": "3.12.3"
  }
 },
 "nbformat": 4,
 "nbformat_minor": 5
}
